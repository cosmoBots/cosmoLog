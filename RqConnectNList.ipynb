{
 "cells": [
  {
   "cell_type": "code",
   "execution_count": 1,
   "metadata": {},
   "outputs": [
    {
     "name": "stdout",
     "output_type": "stream",
     "text": [
      "Proyectos:\n",
      "\t agile-test  \t|  Agile test\n",
      "\t datalogger  \t|  DataLogger\n",
      "\t est  \t|  EST\n",
      "\t grest  \t|  GREST\n",
      "\t ifub  \t|  Actualización IFU de SOLARNET\n",
      "\t pruebaest  \t|  Prueba\n",
      "\t gtc  \t|  GTC\n",
      "\t prueba1  \t|  PRUEBA1\n",
      "\t iac  \t|  IAC\n",
      "\t instru  \t|  Instrumentación\n",
      "\t hw  \t|  Electrónica\n",
      "\t pm  \t|  Gestión\n",
      "\t mec  \t|  Mecánica\n",
      "\t opt  \t|  Óptica\n",
      "\t sie-instru  \t|  SIE (Instrumentación)\n",
      "\t software  \t|  Software\n",
      "\t iactec  \t|  IACTEC\n",
      "\t comun  \t|  Común\n",
      "\t grandes-telescopios  \t|  Grandes Telescopios\n",
      "\t instalacion-y-uso-del-redmine  \t|  Instalación y uso del Redmine\n",
      "\t microsatelites  \t|  MicroSatélites\n",
      "\t tecnologia-medica  \t|  Tecnología Médica\n",
      "\t montaje-gtc-wfs  \t|  Montaje GTC-WFS\n",
      "\t optica-gtc-wfs  \t|  Optica GTC-WFS\n",
      "\t rueda-de-microlentes  \t|  Rueda de Microlentes\n",
      "\t prueba-mcao_soft  \t|  Prueba MCAO_SOFT\n",
      "\t sic  \t|  SIC\n",
      "\t test-plugins  \t|  Test plugins\n",
      "\t web  \t|  Web\n",
      "\t help  \t|  Help\n",
      "\t wsweb  \t|  Talleres\n",
      "\t rmgitws  \t|  Redmine + Git\n",
      "\t rmgit-i  \t|  RmGit I\n",
      "\t rmgit-i-agap  \t|  agap\n",
      "\t rmgit-i-agap-dev  \t|  agap dev\n",
      "\t alfynigo  \t|  alfynigo\n",
      "\t alfynigo-dev  \t|  alfynigo dev\n",
      "\t rmgit-i-amora  \t|  amora\n",
      "\t subproy_abel  \t|  amora dev\n",
      "\t rmgit-i-anonimo  \t|  anonimo\n",
      "\t anonimo-dev  \t|  anonimo dev\n",
      "\t rmgit-i-aoc  \t|  aoc\n",
      "\t aoc-dev  \t|  aoc-dev\n",
      "\t rmgit-i-aragunde  \t|  aragunde\n",
      "\t rmgit-i-aragunde-dev  \t|  aragunde dev\n",
      "\t lst-cam  \t|  LST-Cam\n",
      "\t rmgit-i-carlosd  \t|  carlosd\n",
      "\t carlosd_dev  \t|  carlosd dev\n",
      "\t rmgit-i-cmd  \t|  cmd\n",
      "\t cmd-dev  \t|  cmd dev\n",
      "\t rmgit-i-german-prieto-gtc  \t|  german.prieto.gtc\n",
      "\t prueba-rmmanager  \t|   german.prieto.gtc dev\n",
      "\t prueba  \t|  prueba\n",
      "\t rmgit-i-gigante  \t|  gigante\n",
      "\t gigante-dev  \t|  gigante dev\n",
      "\t horacio  \t|  horacio\n",
      "\t rmgit-i-horacio-dev  \t|  horacio dev\n",
      "\t rmgit-i-hrr  \t|  hrr\n",
      "\t hrr-dev  \t|  hrr dev\n",
      "\t rmgit-i-jct  \t|  jct\n",
      "\t jct-dev  \t|  jct dev\n",
      "\t rmgit-i-jjs  \t|  jjs\n",
      "\t jjs-dev  \t|  jjs-dev\n",
      "\t rmgit-i-jlr  \t|  jlr\n",
      "\t jlr-dev  \t|  jlr dev\n",
      "\t rmgit-i-jose-rodriguez-gtc  \t|  jose.rodriguez.gtc\n",
      "\t jose-rodriguez-gtc-dev  \t|  jose.rodriguez.gtc dev\n",
      "\t rmgit-i-jquintero  \t|  jquintero\n",
      "\t jquinterodev  \t|  jquintero dev\n",
      "\t rmgit-i-jralzola  \t|  jralzola\n",
      "\t jralzola-dev  \t|  jralzola dev\n",
      "\t rmgit-i-juancc  \t|  juancc\n",
      "\t juancc-dev  \t|  juancc dev\n",
      "\t rmgit-i-mesteves  \t|  mesteves\n",
      "\t mesteves-dev  \t|  mesteves dev\n",
      "\t pruebas  \t|  Pruebas \n",
      "\t rmgit-i-mreyes  \t|  mreyes\n",
      "\t mreyesdev  \t|  mreyes dev\n",
      "\t rmgit-i-mtorres  \t|  mtorres\n",
      "\t rmgit-i-mtorres-dev  \t|  mtorres dev\n",
      "\t rmgit-i-nauzetvr  \t|  nauzetvr\n",
      "\t nauzetvr-dev  \t|  nauzetvr dev\n",
      "\t rmgit-i-noe-rodriguez  \t|  noe.rodriguez\n",
      "\t rmgit-i-noe-rodriguez-dev  \t|  noe.rodriguez dev\n",
      "\t pfi  \t|  pfi\n",
      "\t pfi-dev  \t|  pfi dev\n",
      "\t rmgit-i-predondo  \t|  predondo\n",
      "\t predondodev  \t|  predondo dev\n",
      "\t rayco-hernandez  \t|  raycohd\n",
      "\t rayco-hernandez-dev  \t|  raycohd dev\n",
      "\t rmgit-i-rll  \t|  rll\n",
      "\t taller-rm  \t|  rll dev\n",
      "\t rmgit-i-txinto  \t|  txinto\n",
      "\t rmgit-i-txinto-dev  \t|  txinto dev\n",
      "\t rmgit-i-valdivia  \t|  valdivia\n",
      "\t valdivia-dev  \t|  valdivia dev\n",
      "\t web-dev  \t|  Web development\n",
      "\t workshop  \t|  Workshop\n",
      "Obtenemos proyecto:  datalogger  |  DataLogger\n"
     ]
    }
   ],
   "source": [
    "%run ./RqConnect.ipynb"
   ]
  },
  {
   "cell_type": "code",
   "execution_count": 2,
   "metadata": {},
   "outputs": [],
   "source": [
    "tmp = redmine.issue.filter(project_id=rm_project_id_str, tracker_id=rm_tracker_id, status_id='*')\n",
    "my_project_issues = sorted(tmp, key=lambda k: k.id)"
   ]
  },
  {
   "cell_type": "code",
   "execution_count": 3,
   "metadata": {},
   "outputs": [
    {
     "name": "stdout",
     "output_type": "stream",
     "text": [
      "[<redminelib.resources.Issue #496 \"v\">]\n"
     ]
    }
   ],
   "source": [
    "print(my_project_issues)"
   ]
  },
  {
   "cell_type": "code",
   "execution_count": null,
   "metadata": {},
   "outputs": [],
   "source": []
  }
 ],
 "metadata": {
  "kernelspec": {
   "display_name": "Python 3",
   "language": "python",
   "name": "python3"
  },
  "language_info": {
   "codemirror_mode": {
    "name": "ipython",
    "version": 3
   },
   "file_extension": ".py",
   "mimetype": "text/x-python",
   "name": "python",
   "nbconvert_exporter": "python",
   "pygments_lexer": "ipython3",
   "version": "3.7.3"
  }
 },
 "nbformat": 4,
 "nbformat_minor": 2
}
