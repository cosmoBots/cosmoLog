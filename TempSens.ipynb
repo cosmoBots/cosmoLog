{
 "cells": [
  {
   "cell_type": "code",
   "execution_count": null,
   "metadata": {},
   "outputs": [],
   "source": [
    "from datalogger import *\n",
    "import threading\n",
    "from time import sleep\n",
    "\n",
    "print(\"Doreturn inicializado\")\n",
    "doReturn = True\n",
    "\n",
    "def doit():\n",
    "    #print(\"doit: \", threading.get_ident())\n",
    "    global doReturn\n",
    "    doReturn = True\n",
    "\n",
    "# Gets a response from the Motors\n",
    "def getDataLakeshore():\n",
    "    global t\n",
    "    global doReturn\n",
    "    while not doReturn:\n",
    "        sleep(0.05)\n",
    " \n",
    "    #print(\"getDataLakeshore: \", threading.get_ident())\n",
    "    t = threading.Timer(1.0, doit)\n",
    "    t.start()\n",
    "    doReturn = False\n",
    "    PfLog.dre.command_tx_buf=\"RDGST? A\".encode()\n",
    "    PfLog.sendCtrlCommand()\n",
    "    PfLog.getCtrlResponse()\n",
    "    resp1 = PfLog.dre.command_rx_str\n",
    "    status1 = int(resp1.strip())   # Removes whitespaces and assign to status of first channel\n",
    "    PfLog.dre.command_tx_buf=\"KRDG? A\".encode()\n",
    "    PfLog.sendCtrlCommand()\n",
    "    PfLog.getCtrlResponse()\n",
    "    resp1 = PfLog.dre.command_rx_str\n",
    "    value1 = float(resp1.strip())  # Removes whitespaces and assign to value of first channel\n",
    "    PfLog.dre.command_tx_buf=\"RDGST? B\".encode()\n",
    "    PfLog.sendCtrlCommand()\n",
    "    PfLog.getCtrlResponse()\n",
    "    resp2 = PfLog.dre.command_rx_str\n",
    "    status2 = int(resp2.strip())   # Removes whitespaces and assign to status of second channel\n",
    "    PfLog.dre.command_tx_buf=\"KRDG? B\".encode()\n",
    "    PfLog.sendCtrlCommand()\n",
    "    PfLog.getCtrlResponse()\n",
    "    resp2 = PfLog.dre.command_rx_str\n",
    "    value2 = float(resp2.strip())  # Removes whitespaces and assign to value of second channel\n",
    "    \n",
    "    return status1, value1, status2, value2"
   ]
  },
  {
   "cell_type": "code",
   "execution_count": null,
   "metadata": {},
   "outputs": [],
   "source": [
    "serport = serial.Serial(\n",
    "        port=config.cte_serial_port2,\n",
    "        baudrate=9600,\n",
    "        parity=serial.PARITY_ODD,\n",
    "        stopbits=serial.STOPBITS_ONE,\n",
    "        bytesize=serial.SEVENBITS,\n",
    "        rtscts=False,\n",
    "        dsrdtr=False,\n",
    "        xonxoff=True\n",
    "    )\n",
    "if config.cte_verbose:\n",
    "    print(\"Chosen serial port: \" + config.cte_serial_port2)\n",
    "datalogger(serport,getDataLakeshore,rm_cat_temp1,rm_cat_temp2,\"temp\")"
   ]
  },
  {
   "cell_type": "code",
   "execution_count": null,
   "metadata": {},
   "outputs": [],
   "source": [
    "\n"
   ]
  },
  {
   "cell_type": "code",
   "execution_count": null,
   "metadata": {},
   "outputs": [],
   "source": [
    "\n",
    "\n"
   ]
  },
  {
   "cell_type": "code",
   "execution_count": null,
   "metadata": {},
   "outputs": [],
   "source": []
  },
  {
   "cell_type": "code",
   "execution_count": null,
   "metadata": {},
   "outputs": [],
   "source": []
  }
 ],
 "metadata": {
  "kernelspec": {
   "display_name": "Python 3",
   "language": "python",
   "name": "python3"
  },
  "language_info": {
   "codemirror_mode": {
    "name": "ipython",
    "version": 3
   },
   "file_extension": ".py",
   "mimetype": "text/x-python",
   "name": "python",
   "nbconvert_exporter": "python",
   "pygments_lexer": "ipython3",
   "version": "3.8.2"
  }
 },
 "nbformat": 4,
 "nbformat_minor": 4
}
