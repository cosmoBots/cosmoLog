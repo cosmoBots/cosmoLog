{
 "cells": [
  {
   "cell_type": "code",
   "execution_count": null,
   "metadata": {},
   "outputs": [],
   "source": [
    "from datalogger import *\n",
    "\n",
    "# Gets a response from the Motors\n",
    "def getDataPfeiffer():\n",
    "    PfLog.getCtrlResponse()\n",
    "    # PfLog.dre.command_rx_buf\n",
    "    resp2 = PfLog.dre.command_rx_str\n",
    "    splitresp = resp2.split(',')  # Splits the string into groups\n",
    "    status1 = int(splitresp[0].strip())  # Removes whitespaces and assign to status of first channel\n",
    "    value1 = float(splitresp[1].strip())  # Removes whitespaces and assign to value of first channel\n",
    "    status2 = int(splitresp[2].strip())  # Removes whitespaces and assign to status of second channel\n",
    "    value2 = float(splitresp[3].strip())  # Removes whitespaces and assign to value of second channel\n",
    "    return status1, value1, status2, value2"
   ]
  },
  {
   "cell_type": "code",
   "execution_count": null,
   "metadata": {},
   "outputs": [],
   "source": [
    "serport = serial.Serial(\n",
    "        port=config.cte_serial_port,\n",
    "        baudrate=9600,\n",
    "        parity=serial.PARITY_NONE,\n",
    "        stopbits=serial.STOPBITS_ONE,\n",
    "        bytesize=serial.EIGHTBITS,\n",
    "        rtscts=False,\n",
    "        dsrdtr=False,\n",
    "        xonxoff=True\n",
    "    )\n",
    "if config.cte_verbose:\n",
    "    print(\"Chosen serial port: \" + config.cte_serial_port)\n",
    "datalogger(serport,getDataPfeiffer,rm_cat_press1,rm_cat_press2,\"press\")"
   ]
  },
  {
   "cell_type": "code",
   "execution_count": null,
   "metadata": {},
   "outputs": [],
   "source": [
    "\n"
   ]
  },
  {
   "cell_type": "code",
   "execution_count": null,
   "metadata": {},
   "outputs": [],
   "source": [
    "\n",
    "\n"
   ]
  },
  {
   "cell_type": "code",
   "execution_count": null,
   "metadata": {},
   "outputs": [],
   "source": []
  },
  {
   "cell_type": "code",
   "execution_count": null,
   "metadata": {},
   "outputs": [],
   "source": []
  }
 ],
 "metadata": {
  "kernelspec": {
   "display_name": "Python 3",
   "language": "python",
   "name": "python3"
  },
  "language_info": {
   "codemirror_mode": {
    "name": "ipython",
    "version": 3
   },
   "file_extension": ".py",
   "mimetype": "text/x-python",
   "name": "python",
   "nbconvert_exporter": "python",
   "pygments_lexer": "ipython3",
   "version": "3.8.2"
  }
 },
 "nbformat": 4,
 "nbformat_minor": 4
}
