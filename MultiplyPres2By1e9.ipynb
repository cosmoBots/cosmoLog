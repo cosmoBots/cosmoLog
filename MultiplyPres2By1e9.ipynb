{
 "cells": [
  {
   "cell_type": "code",
   "execution_count": null,
   "metadata": {},
   "outputs": [],
   "source": [
    "from redminelib import Redmine\n",
    "from config_rm import *\n",
    "\n",
    "redmine = Redmine(rm_server_url,key=rm_key_txt)\n",
    "projects = redmine.project.all()\n",
    "\n",
    "print(\"Proyectos:\")\n",
    "for p in projects:\n",
    "    print (\"\\t\",p.identifier,\" \\t| \",p.name)\n",
    "\n",
    "my_project = redmine.project.get(rm_project_id_str)\n",
    "print (\"Obtenemos proyecto: \",my_project.identifier,\" | \",my_project.name)\n",
    "\n",
    "tmp = redmine.issue.filter(project_id=rm_project_id_str, tracker_id=rm_tracker_id, status_id='*')\n",
    "project_data = sorted(tmp, key=lambda k: k.id)\n"
   ]
  },
  {
   "cell_type": "markdown",
   "metadata": {},
   "source": [
    "Borramos los datos de \"Press1\" ya que no se usan"
   ]
  },
  {
   "cell_type": "code",
   "execution_count": null,
   "metadata": {},
   "outputs": [],
   "source": [
    "for datum in project_data:\n",
    "    if (datum.category.name == \"Pres2\"):\n",
    "        if (datum.status.id==rm_status_new_id):\n",
    "            print(\"Status:\",datum.status.name)\n",
    "            value = float(datum.custom_fields.get(rm_cfield_value).value) * 1e9\n",
    "            # veo el valor \n",
    "            minvalue = float(datum.custom_fields.get(rm_cfield_min).value) * 1e9\n",
    "            maxvalue = float(datum.custom_fields.get(rm_cfield_max).value) * 1e9\n",
    "            meanvalue = float(datum.custom_fields.get(rm_cfield_mean).value) * 1e9\n",
    "            medianvalue = float(datum.custom_fields.get(rm_cfield_median).value) * 1e9\n",
    "            print(\"actualizamos a value:\",value)\n",
    "            print(\"actualizamos a minvalue:\",minvalue)\n",
    "            print(\"actualizamos a maxvalue:\",maxvalue)\n",
    "            print(\"actualizamos a meanvalue:\",meanvalue)\n",
    "            print(\"actualizamos a medianvalue:\",medianvalue)\n",
    "            redmine.issue.update(resource_id=datum.id,\n",
    "                 status_id = rm_status_converted_id,\n",
    "                 custom_fields=[{'id': rm_cfield_value,'value': value},\n",
    "                                {'id': rm_cfield_min,'value': minvalue},\n",
    "                                {'id': rm_cfield_max,'value': maxvalue},\n",
    "                                {'id': rm_cfield_mean,'value': meanvalue},\n",
    "                                {'id': rm_cfield_median,'value': medianvalue}\n",
    "                                ]\n",
    "            )\n"
   ]
  },
  {
   "cell_type": "markdown",
   "metadata": {},
   "source": [
    "\n"
   ]
  },
  {
   "cell_type": "code",
   "execution_count": null,
   "metadata": {},
   "outputs": [],
   "source": [
    "\n",
    "\n"
   ]
  },
  {
   "cell_type": "code",
   "execution_count": null,
   "metadata": {},
   "outputs": [],
   "source": []
  },
  {
   "cell_type": "code",
   "execution_count": null,
   "metadata": {},
   "outputs": [],
   "source": []
  }
 ],
 "metadata": {
  "kernelspec": {
   "display_name": "Python 3",
   "language": "python",
   "name": "python3"
  },
  "language_info": {
   "codemirror_mode": {
    "name": "ipython",
    "version": 3
   },
   "file_extension": ".py",
   "mimetype": "text/x-python",
   "name": "python",
   "nbconvert_exporter": "python",
   "pygments_lexer": "ipython3",
   "version": "3.8.2"
  }
 },
 "nbformat": 4,
 "nbformat_minor": 4
}
